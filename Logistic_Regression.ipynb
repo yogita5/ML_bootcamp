{
  "nbformat": 4,
  "nbformat_minor": 0,
  "metadata": {
    "colab": {
      "provenance": [],
      "authorship_tag": "ABX9TyNhkjGp6+1M5KT3TFbMW1nh",
      "include_colab_link": true
    },
    "kernelspec": {
      "name": "python3",
      "display_name": "Python 3"
    },
    "language_info": {
      "name": "python"
    }
  },
  "cells": [
    {
      "cell_type": "markdown",
      "metadata": {
        "id": "view-in-github",
        "colab_type": "text"
      },
      "source": [
        "<a href=\"https://colab.research.google.com/github/yogita5/ML_bootcamp/blob/main/Logistic_Regression.ipynb\" target=\"_parent\"><img src=\"https://colab.research.google.com/assets/colab-badge.svg\" alt=\"Open In Colab\"/></a>"
      ]
    },
    {
      "cell_type": "code",
      "execution_count": 1,
      "metadata": {
        "id": "k0QT8ZQHVD3g"
      },
      "outputs": [],
      "source": [
        "import numpy as np\n",
        "import pandas as pd\n",
        "import matplotlib as mpl\n",
        "import matplotlib.pyplot as plt\n",
        "\n",
        "url_train = \"https://raw.githubusercontent.com/yogita5/test/main/classification_train%20(1).csv\"\n",
        "url_test = \"https://raw.githubusercontent.com/yogita5/test/main/classification_test%20(1).csv\"\n",
        "df_train = pd.read_csv(url_train)\n",
        "df_test = pd.read_csv(url_test)\n",
        "train_data = df_train.values\n",
        "test_data = df_test.values"
      ]
    },
    {
      "cell_type": "code",
      "source": [
        "X_train = train_data[:,2:]\n",
        "y_train = train_data[:,1]\n",
        "X_test = test_data[:,1:]"
      ],
      "metadata": {
        "id": "LJeANJnAWhW3"
      },
      "execution_count": 2,
      "outputs": []
    },
    {
      "cell_type": "code",
      "source": [
        "plt.scatter(X_train[:,0],y_train)\n",
        "plt.xlabel(\"X[0]\")\n",
        "plt.ylabel(\"y\")\n",
        "plt.show()"
      ],
      "metadata": {
        "colab": {
          "base_uri": "https://localhost:8080/",
          "height": 449
        },
        "id": "g6iwiJUCjeCv",
        "outputId": "ba87d6a4-ceb9-402b-b4f1-7cd1c7365aa5"
      },
      "execution_count": 3,
      "outputs": [
        {
          "output_type": "display_data",
          "data": {
            "text/plain": [
              "<Figure size 640x480 with 1 Axes>"
            ],
            "image/png": "[encoded data removed]"
          },
          "metadata": {}
        }
      ]
    },
    {
      "cell_type": "code",
      "execution_count": 4,
      "metadata": {
        "id": "niJZouiX2_4f"
      },
      "outputs": [],
      "source": [
        "#normalization\n",
        "def normalization(X):\n",
        "      mu = np.mean(X,axis=0)\n",
        "      sigma = np.std(X,axis=0)\n",
        "      X_norm = (X-mu)/sigma\n",
        "      return(X_norm,mu,sigma)"
      ]
    },
    {
      "cell_type": "code",
      "source": [
        "#training set for 1 vs all\n",
        "def one_vs_all(y):\n",
        "  y_vs = np.zeros([y.shape[0],np.amax(y)+1])\n",
        "  for i in range(np.amax(y)+1):\n",
        "    y_vs[:,i] = np.where(y == i,1,0)\n",
        "  return y_vs"
      ],
      "metadata": {
        "id": "C7WhTCKs0DM4"
      },
      "execution_count": 5,
      "outputs": []
    },
    {
      "cell_type": "code",
      "source": [
        "def linear_z(X,w,b):\n",
        "  z = np.dot(X,w) + b\n",
        "  z = np.array(z,dtype = np.float128)\n",
        "  return(z)"
      ],
      "metadata": {
        "id": "18hgfRlqmjK-"
      },
      "execution_count": 6,
      "outputs": []
    },
    {
      "cell_type": "code",
      "source": [
        "def sigmoid(z):\n",
        "  fw_b = 1/(1+np.exp(-z))\n",
        "  return fw_b"
      ],
      "metadata": {
        "id": "sKa7hGDYu2b0"
      },
      "execution_count": 7,
      "outputs": []
    },
    {
      "cell_type": "code",
      "source": [
        "def compute_cost(X,y,z,fw_b):\n",
        "  m = X.shape[0]\n",
        "  epsilon = 1e-5\n",
        "  loss = -y*np.log(fw_b + epsilon) - (1-y)*np.log(1-fw_b + epsilon) \n",
        "  cost = np.sum(loss,axis=0)\n",
        "  cost = cost/m\n",
        "  return cost"
      ],
      "metadata": {
        "id": "dMD6fju-8XJv"
      },
      "execution_count": 8,
      "outputs": []
    },
    {
      "cell_type": "code",
      "source": [
        "def compute_gradient(X,y,z,fw_b):\n",
        "  m = X.shape[0]\n",
        "  dj_dw = np.dot(X.T,fw_b-y)\n",
        "  dj_db = np.sum(fw_b-y,axis=0)\n",
        "  dj_dw/=m\n",
        "  dj_db/=m\n",
        "  return dj_dw,dj_db"
      ],
      "metadata": {
        "id": "KqUQxvFsDuFx"
      },
      "execution_count": 9,
      "outputs": []
    },
    {
      "cell_type": "code",
      "source": [
        "def gradient_descent(X,y,w,b,alpha,iterations):\n",
        "  j_history = []\n",
        "  for i in range(iterations):\n",
        "    z = linear_z(X,w,b)\n",
        "    fw_b = sigmoid(z)\n",
        "    dj_dw,dj_db = compute_gradient(X,y,z,fw_b)\n",
        "    w = w - alpha*dj_dw\n",
        "    b = b-alpha*dj_db\n",
        "    if i<100000:\n",
        "      cost = compute_cost(X,y,z,fw_b)\n",
        "      j_history.append(cost)\n",
        "    if i % (iterations/10) == 0 or i == iterations-1 :\n",
        "      print(f\"Iterations: {i}    Cost: {cost}      \")\n",
        "  return w,b,j_history"
      ],
      "metadata": {
        "id": "sU6OEA1AJ6_g"
      },
      "execution_count": 10,
      "outputs": []
    },
    {
      "cell_type": "code",
      "source": [
        "X_norm,mu,sigma = normalization(X_train)\n",
        "y_vs = one_vs_all(y_train)\n",
        "w = np.zeros([X_train.shape[1],np.amax(y_train)+1])\n",
        "b = np.zeros(np.amax(y_train)+1)\n",
        "num_iter = 1000\n",
        "alpha = 0.05\n",
        "w,b,j_hist = gradient_descent(X_norm,y_vs,w,b,alpha,num_iter)"
      ],
      "metadata": {
        "colab": {
          "base_uri": "https://localhost:8080/"
        },
        "id": "-0pV723XpncK",
        "outputId": "f1b137d2-4350-4f35-9dcb-e73f346a53d8"
      },
      "execution_count": 11,
      "outputs": [
        {
          "output_type": "stream",
          "name": "stdout",
          "text": [
            "Iterations: 0    Cost: [0.69312718 0.69312718 0.69312718 0.69312718 0.69312718 0.69312718\n",
            " 0.69312718 0.69312718 0.69312718 0.69312718]      \n",
            "Iterations: 100    Cost: [0.25240363 0.15478438 0.28330978 0.24148246 0.27569208 0.25497047\n",
            " 0.31471995 0.22245775 0.19719945 0.2046398 ]      \n",
            "Iterations: 200    Cost: [0.18277045 0.09902955 0.21363482 0.16988324 0.20463023 0.1761523\n",
            " 0.2476149  0.15034459 0.13482772 0.13514153]      \n",
            "Iterations: 300    Cost: [0.1553423  0.07675188 0.1867833  0.14168922 0.17701459 0.14359318\n",
            " 0.22213347 0.12108427 0.10786846 0.10526347]      \n",
            "Iterations: 400    Cost: [0.14100022 0.06456332 0.17283858 0.12685737 0.16261774 0.12560862\n",
            " 0.20896717 0.10543942 0.09269952 0.08896067]      \n",
            "Iterations: 500    Cost: [0.13220177 0.0567664  0.16431321 0.1177084  0.15380455 0.11402463\n",
            " 0.20094689 0.09568139 0.08286869 0.07875635]      \n",
            "Iterations: 600    Cost: [0.12623656 0.05129338 0.15854673 0.11147481 0.14784342 0.10583331\n",
            " 0.19554262 0.08897611 0.07591187 0.07177351]      \n",
            "Iterations: 700    Cost: [0.12190908 0.04720997 0.15437115 0.10693125 0.1435298  0.09966968\n",
            " 0.19164495 0.08405505 0.07069263 0.06668823]      \n",
            "Iterations: 800    Cost: [0.11861365 0.04402984 0.15119615 0.10345511 0.14025332 0.09482279\n",
            " 0.188693   0.08026846 0.06661386 0.06281163]      \n",
            "Iterations: 900    Cost: [0.11601125 0.04147344 0.14869183 0.10069725 0.13767247 0.09088442\n",
            " 0.18637339 0.07724955 0.06332967 0.05975153]      \n",
            "Iterations: 999    Cost: [0.11391662 0.03938702 0.14667795 0.09846731 0.13560034 0.08763272\n",
            " 0.18451448 0.07479808 0.06064866 0.05729133]      \n"
          ]
        }
      ]
    },
    {
      "cell_type": "code",
      "source": [
        "iter = np.arange(num_iter)\n",
        "j_hist = np.array(j_hist)\n",
        "plt.scatter(iter,j_hist[:,0])\n",
        "plt.show()"
      ],
      "metadata": {
        "colab": {
          "base_uri": "https://localhost:8080/",
          "height": 430
        },
        "id": "P5Tx06pE68hT",
        "outputId": "3a570821-d45b-4aff-f03d-ef60583169b6"
      },
      "execution_count": 12,
      "outputs": [
        {
          "output_type": "display_data",
          "data": {
            "text/plain": [
              "<Figure size 640x480 with 1 Axes>"
            ],
            "image/png": "[encoded data removed]"
          },
          "metadata": {}
        }
      ]
    },
    {
      "cell_type": "code",
      "source": [
        "def predict(X,w,b):\n",
        "  z = linear_z(X,w,b)\n",
        "  y = sigmoid(z)\n",
        "  pred = np.array(y.shape[0])\n",
        "  pred = np.argmax(y,axis=1)\n",
        "  return pred"
      ],
      "metadata": {
        "id": "FDVCmYiWCv1V"
      },
      "execution_count": 13,
      "outputs": []
    },
    {
      "cell_type": "code",
      "source": [
        "def accuracy(y_data,y_pred):\n",
        "  c = 0\n",
        "  for i in range(y_data.shape[0]):\n",
        "    if y_data[i]==y_pred[i]:\n",
        "      c+=1 \n",
        "  acc_percent = c/y_data.shape[0]*100\n",
        "  return acc_percent"
      ],
      "metadata": {
        "id": "eCBKkCvhFN0d"
      },
      "execution_count": 14,
      "outputs": []
    },
    {
      "cell_type": "code",
      "source": [
        "y_pred = predict(X_norm,w,b)\n",
        "print(accuracy(y_train,y_pred))"
      ],
      "metadata": {
        "colab": {
          "base_uri": "https://localhost:8080/"
        },
        "id": "9VDypDVILOHX",
        "outputId": "8d690e39-0076-422f-8b7e-96794bdfb508"
      },
      "execution_count": 15,
      "outputs": [
        {
          "output_type": "stream",
          "name": "stdout",
          "text": [
            "84.49666666666667\n"
          ]
        }
      ]
    },
    {
      "cell_type": "code",
      "source": [
        "print(y_pred)"
      ],
      "metadata": {
        "colab": {
          "base_uri": "https://localhost:8080/"
        },
        "id": "cYUVGQ9qG3xR",
        "outputId": "dad63c7b-216b-409f-c5a8-42b0c3b0f11e"
      },
      "execution_count": 16,
      "outputs": [
        {
          "output_type": "stream",
          "name": "stdout",
          "text": [
            "[7 4 1 ... 9 4 0]\n"
          ]
        }
      ]
    },
    {
      "cell_type": "code",
      "source": [
        "plt.scatter(X_train[:,0],y_train)\n",
        "plt.scatter(X_train[:,0],y_pred,color='r')\n",
        "plt.show()"
      ],
      "metadata": {
        "colab": {
          "base_uri": "https://localhost:8080/",
          "height": 430
        },
        "id": "GyxMv7hdM85I",
        "outputId": "08de80e5-a3bb-46b0-d298-d3933ec03e39"
      },
      "execution_count": 17,
      "outputs": [
        {
          "output_type": "display_data",
          "data": {
            "text/plain": [
              "<Figure size 640x480 with 1 Axes>"
            ],
            "image/png": "[encoded data removed]"
          },
          "metadata": {}
        }
      ]
    },
    {
      "cell_type": "code",
      "source": [
        "X_normtest = (X_test-mu)/sigma\n",
        "y_test = predict(X_normtest,w,b)"
      ],
      "metadata": {
        "id": "FWWlDG1PKTSh"
      },
      "execution_count": 18,
      "outputs": []
    },
    {
      "cell_type": "code",
      "source": [
        "print(y_test)"
      ],
      "metadata": {
        "colab": {
          "base_uri": "https://localhost:8080/"
        },
        "id": "IR-xU86EK70t",
        "outputId": "2469bbaa-f584-435b-ff26-d6bfd719c362"
      },
      "execution_count": 19,
      "outputs": [
        {
          "output_type": "stream",
          "name": "stdout",
          "text": [
            "[0 1 2 ... 8 6 2]\n"
          ]
        }
      ]
    },
    {
      "cell_type": "code",
      "source": [
        "plt.scatter(X_test[:,0],y_test)\n",
        "plt.show()"
      ],
      "metadata": {
        "colab": {
          "base_uri": "https://localhost:8080/",
          "height": 430
        },
        "id": "NXqX_WENOxp-",
        "outputId": "4f5fe1b8-bcc7-4208-8fbd-4289c8e6d351"
      },
      "execution_count": 20,
      "outputs": [
        {
          "output_type": "display_data",
          "data": {
            "text/plain": [
              "<Figure size 640x480 with 1 Axes>"
            ],
            "image/png": "[encoded data removed]"
          },
          "metadata": {}
        }
      ]
    },
    {
      "cell_type": "code",
      "source": [
        "df_predicted = pd.DataFrame(data = y_test,index = df_test.ids)\n",
        "df_predicted.to_csv('Logistic_predicted.csv')"
      ],
      "metadata": {
        "id": "la3E50pyI2zN"
      },
      "execution_count": 22,
      "outputs": []
    }
  ]
}