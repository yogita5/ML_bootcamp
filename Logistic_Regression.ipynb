{
  "nbformat": 4,
  "nbformat_minor": 0,
  "metadata": {
    "colab": {
      "provenance": [],
      "authorship_tag": "ABX9TyOPN2PlIKHPnhe9ALGObmBL",
      "include_colab_link": true
    },
    "kernelspec": {
      "name": "python3",
      "display_name": "Python 3"
    },
    "language_info": {
      "name": "python"
    }
  },
  "cells": [
    {
      "cell_type": "markdown",
      "metadata": {
        "id": "view-in-github",
        "colab_type": "text"
      },
      "source": [
        "<a href=\"https://colab.research.google.com/github/yogita5/ML_bootcamp/blob/main/Logistic_Regression.ipynb\" target=\"_parent\"><img src=\"https://colab.research.google.com/assets/colab-badge.svg\" alt=\"Open In Colab\"/></a>"
      ]
    },
    {
      "cell_type": "code",
      "execution_count": 1,
      "metadata": {
        "id": "k0QT8ZQHVD3g"
      },
      "outputs": [],
      "source": [
        "import numpy as np\n",
        "import pandas as pd\n",
        "import matplotlib as mpl\n",
        "import matplotlib.pyplot as plt\n",
        "\n",
        "url_train = \"https://raw.githubusercontent.com/yogita5/test/main/classification_train%20(1).csv\"\n",
        "url_test = \"https://raw.githubusercontent.com/yogita5/test/main/classification_test%20(1).csv\"\n",
        "df_train = pd.read_csv(url_train)\n",
        "df_test = pd.read_csv(url_test)\n",
        "train_data = df_train.values\n",
        "test_data = df_test.values"
      ]
    },
    {
      "cell_type": "code",
      "source": [
        "X_train = train_data[:,2:]\n",
        "y_train = train_data[:,1]\n",
        "X_test = test_data[:,1:]"
      ],
      "metadata": {
        "id": "LJeANJnAWhW3"
      },
      "execution_count": 2,
      "outputs": []
    },
    {
      "cell_type": "code",
      "source": [
        "plt.scatter(X_train[:,0],y_train)\n",
        "plt.xlabel(\"X[0]\")\n",
        "plt.ylabel(\"y\")\n",
        "plt.show()"
      ],
      "metadata": {
        "colab": {
          "base_uri": "https://localhost:8080/",
          "height": 449
        },
        "id": "g6iwiJUCjeCv",
        "outputId": "685a984b-39e4-4a74-d195-9e605bcb517d"
      },
      "execution_count": 3,
      "outputs": [
        {
          "output_type": "display_data",
          "data": {
            "text/plain": [
              "<Figure size 640x480 with 1 Axes>"
            ],
            "image/png": "[encoded data removed]"
          },
          "metadata": {}
        }
      ]
    },
    {
      "cell_type": "code",
      "execution_count": 4,
      "metadata": {
        "id": "niJZouiX2_4f"
      },
      "outputs": [],
      "source": [
        "#normalization\n",
        "def normalization(X):\n",
        "      mu = np.mean(X,axis=0)\n",
        "      sigma = np.std(X,axis=0)\n",
        "      X_norm = (X-mu)/sigma\n",
        "      return(X_norm,mu,sigma)"
      ]
    },
    {
      "cell_type": "code",
      "source": [
        "#training set for 1 vs all\n",
        "def one_vs_all(y):\n",
        "  y_vs = np.zeros([y.shape[0],np.amax(y)+1])\n",
        "  for i in range(np.amax(y)+1):\n",
        "    y_vs[:,i] = np.where(y == i,1,0)\n",
        "  return y_vs"
      ],
      "metadata": {
        "id": "C7WhTCKs0DM4"
      },
      "execution_count": 5,
      "outputs": []
    },
    {
      "cell_type": "code",
      "source": [
        "def linear_z(X,w,b):\n",
        "  z = np.dot(X,w) + b\n",
        "  fw_b = 1/(1+np.exp(-z))\n",
        "  return(fw_b)"
      ],
      "metadata": {
        "id": "18hgfRlqmjK-"
      },
      "execution_count": 22,
      "outputs": []
    },
    {
      "cell_type": "code",
      "source": [
        "def compute_cost(y,fw_b):\n",
        "  m = y.shape[0]\n",
        "  epsilon = 1e-5\n",
        "  loss = -y*np.log(fw_b + epsilon) - (1-y)*np.log(1-fw_b + epsilon) \n",
        "  cost = np.sum(loss,axis=0)\n",
        "  cost = cost/m\n",
        "  return cost"
      ],
      "metadata": {
        "id": "dMD6fju-8XJv"
      },
      "execution_count": 23,
      "outputs": []
    },
    {
      "cell_type": "code",
      "source": [
        "def compute_gradient(X,y,fw_b):\n",
        "  m = X.shape[0]\n",
        "  dj_dw = np.matmul(X.T,fw_b-y)\n",
        "  dj_db = np.sum(fw_b-y,axis=0)\n",
        "  dj_dw/=m\n",
        "  dj_db/=m\n",
        "  return dj_dw,dj_db"
      ],
      "metadata": {
        "id": "KqUQxvFsDuFx"
      },
      "execution_count": 24,
      "outputs": []
    },
    {
      "cell_type": "code",
      "source": [
        "def gradient_descent(X,y,w,b,alpha,iterations):\n",
        "  j_history = []\n",
        "  for i in range(iterations):\n",
        "    fw_b = linear_z(X,w,b)\n",
        "    dj_dw,dj_db = compute_gradient(X,y,fw_b)\n",
        "    w = w - alpha*dj_dw\n",
        "    b = b-alpha*dj_db\n",
        "    if i<100000:\n",
        "      cost = compute_cost(y,fw_b)\n",
        "      j_history.append(cost)\n",
        "    if i % (iterations/10) == 0 or i == iterations-1 :\n",
        "      print(f\"Iterations: {i}    Cost: {cost}      \")\n",
        "  return w,b,j_history"
      ],
      "metadata": {
        "id": "sU6OEA1AJ6_g"
      },
      "execution_count": 25,
      "outputs": []
    },
    {
      "cell_type": "code",
      "source": [
        "X_norm,mu,sigma = normalization(X_train)\n",
        "y_vs = one_vs_all(y_train)\n",
        "w = np.zeros([X_train.shape[1],np.amax(y_train)+1])\n",
        "b = np.zeros(np.amax(y_train)+1)\n",
        "num_iter = 1300\n",
        "alpha = 0.06\n",
        "w,b,j_hist = gradient_descent(X_norm,y_vs,w,b,alpha,num_iter)"
      ],
      "metadata": {
        "colab": {
          "base_uri": "https://localhost:8080/"
        },
        "id": "-0pV723XpncK",
        "outputId": "f5ab92a4-b391-44d4-db40-8e36bdb016b0"
      },
      "execution_count": 56,
      "outputs": [
        {
          "output_type": "stream",
          "name": "stdout",
          "text": [
            "Iterations: 0    Cost: [0.69312718 0.69312718 0.69312718 0.69312718 0.69312718 0.69312718\n",
            " 0.69312718 0.69312718 0.69312718 0.69312718]      \n",
            "Iterations: 130    Cost: [0.20419976 0.11612407 0.23447876 0.19111745 0.22610163 0.20062118\n",
            " 0.2655887  0.17293217 0.15467333 0.15748199]      \n",
            "Iterations: 260    Cost: [0.15308522 0.07490039 0.18449067 0.13915189 0.17468602 0.14079649\n",
            " 0.2194382  0.11868974 0.10557731 0.10277011]      \n",
            "Iterations: 390    Cost: [0.13458688 0.05893051 0.1665805  0.12009932 0.1561641  0.11720571\n",
            " 0.20284411 0.09836433 0.08560775 0.0815559 ]      \n",
            "Iterations: 520    Cost: [0.12505553 0.05020355 0.15738355 0.110184   0.14664946 0.1041646\n",
            " 0.19432641 0.08765202 0.07452277 0.07039856]      \n",
            "Iterations: 650    Cost: [0.11919406 0.04460539 0.15174064 0.10403467 0.14081965 0.09568229\n",
            " 0.1891172  0.08094714 0.06735414 0.06350188]      \n",
            "Iterations: 780    Cost: [0.11519132 0.04066813 0.14789351 0.0998019  0.13685363 0.08961704\n",
            " 0.18558015 0.07629876 0.06229578 0.05879322]      \n",
            "Iterations: 910    Cost: [0.11226303 0.03772913 0.14508191 0.09668165 0.13396303 0.08500458\n",
            " 0.18300539 0.07285177 0.0585206  0.05535557]      \n",
            "Iterations: 1040    Cost: [0.11001424 0.03544172 0.14292346 0.09426791 0.13175111 0.08134258\n",
            " 0.1810359  0.07017152 0.05558881 0.05272223]      \n",
            "Iterations: 1170    Cost: [0.10822404 0.03360512 0.1412046  0.09233307 0.12999614 0.07834156\n",
            " 0.17947274 0.06801302 0.05324262 0.05063085]      \n",
            "Iterations: 1299    Cost: [0.10676921 0.03210477 0.13980642 0.09075045 0.12857429 0.0758397\n",
            " 0.17820521 0.06623987 0.05133351 0.0489346 ]      \n"
          ]
        }
      ]
    },
    {
      "cell_type": "code",
      "source": [
        "iter = np.arange(num_iter)\n",
        "j_hist = np.array(j_hist)\n",
        "plt.scatter(iter,j_hist[:,0])\n",
        "plt.show()"
      ],
      "metadata": {
        "colab": {
          "base_uri": "https://localhost:8080/",
          "height": 430
        },
        "id": "P5Tx06pE68hT",
        "outputId": "cea02acc-e6b3-4e87-b804-cd5662ffa4d0"
      },
      "execution_count": 57,
      "outputs": [
        {
          "output_type": "display_data",
          "data": {
            "text/plain": [
              "<Figure size 640x480 with 1 Axes>"
            ],
            "image/png": "[encoded data removed]"
          },
          "metadata": {}
        }
      ]
    },
    {
      "cell_type": "code",
      "source": [
        "def predict(X,w,b):\n",
        "  z = linear_z(X,w,b)\n",
        "  y = sigmoid(z)\n",
        "  pred = np.array(y.shape[0])\n",
        "  pred = np.argmax(y,axis=1)\n",
        "  return pred"
      ],
      "metadata": {
        "id": "FDVCmYiWCv1V"
      },
      "execution_count": 28,
      "outputs": []
    },
    {
      "cell_type": "code",
      "source": [
        "def accuracy(y_data,y_pred):\n",
        "  c = 0\n",
        "  for i in range(y_data.shape[0]):\n",
        "    if y_data[i]==y_pred[i]:\n",
        "      c+=1 \n",
        "  acc_percent = c/y_data.shape[0]*100\n",
        "  return acc_percent"
      ],
      "metadata": {
        "id": "eCBKkCvhFN0d"
      },
      "execution_count": 29,
      "outputs": []
    },
    {
      "cell_type": "code",
      "source": [
        "y_pred = predict(X_norm,w,b)\n",
        "print(accuracy(y_train,y_pred))"
      ],
      "metadata": {
        "colab": {
          "base_uri": "https://localhost:8080/"
        },
        "id": "9VDypDVILOHX",
        "outputId": "369f0331-daf4-444f-975d-ef073390efa7"
      },
      "execution_count": 58,
      "outputs": [
        {
          "output_type": "stream",
          "name": "stdout",
          "text": [
            "85.16333333333334\n"
          ]
        }
      ]
    },
    {
      "cell_type": "code",
      "source": [
        "print(y_pred)"
      ],
      "metadata": {
        "colab": {
          "base_uri": "https://localhost:8080/"
        },
        "id": "cYUVGQ9qG3xR",
        "outputId": "b11ca6e0-66ad-4154-bb0e-139bf10ac6fa"
      },
      "execution_count": 59,
      "outputs": [
        {
          "output_type": "stream",
          "name": "stdout",
          "text": [
            "[7 4 1 ... 9 4 0]\n"
          ]
        }
      ]
    },
    {
      "cell_type": "code",
      "source": [
        "plt.scatter(X_train[:,0],y_train)\n",
        "plt.scatter(X_train[:,0],y_pred,color='r')\n",
        "plt.show()"
      ],
      "metadata": {
        "colab": {
          "base_uri": "https://localhost:8080/",
          "height": 430
        },
        "id": "GyxMv7hdM85I",
        "outputId": "19cad7a5-6398-4966-f3da-61daa5f69d18"
      },
      "execution_count": 60,
      "outputs": [
        {
          "output_type": "display_data",
          "data": {
            "text/plain": [
              "<Figure size 640x480 with 1 Axes>"
            ],
            "image/png": "[encoded data removed]"
          },
          "metadata": {}
        }
      ]
    },
    {
      "cell_type": "code",
      "source": [
        "X_normtest = (X_test-mu)/sigma\n",
        "y_test = predict(X_normtest,w,b)"
      ],
      "metadata": {
        "id": "FWWlDG1PKTSh"
      },
      "execution_count": 61,
      "outputs": []
    },
    {
      "cell_type": "code",
      "source": [
        "print(y_test)"
      ],
      "metadata": {
        "colab": {
          "base_uri": "https://localhost:8080/"
        },
        "id": "IR-xU86EK70t",
        "outputId": "9af42e4e-6581-41f8-e468-47e031a81452"
      },
      "execution_count": 62,
      "outputs": [
        {
          "output_type": "stream",
          "name": "stdout",
          "text": [
            "[0 1 2 ... 8 6 2]\n"
          ]
        }
      ]
    },
    {
      "cell_type": "code",
      "source": [
        "plt.scatter(X_test[:,0],y_test)\n",
        "plt.show()"
      ],
      "metadata": {
        "colab": {
          "base_uri": "https://localhost:8080/",
          "height": 430
        },
        "id": "NXqX_WENOxp-",
        "outputId": "4d8875ce-f9fb-4904-ec39-7aaa4063767f"
      },
      "execution_count": 63,
      "outputs": [
        {
          "output_type": "display_data",
          "data": {
            "text/plain": [
              "<Figure size 640x480 with 1 Axes>"
            ],
            "image/png": "[encoded data removed]"
          },
          "metadata": {}
        }
      ]
    },
    {
      "cell_type": "code",
      "source": [
        "df_predicted = pd.DataFrame(data = y_test,index = df_test.ids)\n",
        "df_predicted.to_csv('Logistic_predicted.csv')"
      ],
      "metadata": {
        "id": "la3E50pyI2zN"
      },
      "execution_count": 64,
      "outputs": []
    },
    {
      "cell_type": "code",
      "source": [],
      "metadata": {
        "id": "k4b6dW8tVKTt"
      },
      "execution_count": null,
      "outputs": []
    }
  ]
}